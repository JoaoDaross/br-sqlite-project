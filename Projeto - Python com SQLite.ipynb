{
  "nbformat": 4,
  "nbformat_minor": 0,
  "metadata": {
    "anaconda-cloud": {},
    "kernelspec": {
      "display_name": "Python [conda env:udacity-update]",
      "language": "python",
      "name": "conda-env-udacity-update-py"
    },
    "language_info": {
      "codemirror_mode": {
        "name": "ipython",
        "version": 3
      },
      "file_extension": ".py",
      "mimetype": "text/x-python",
      "name": "python",
      "nbconvert_exporter": "python",
      "pygments_lexer": "ipython3",
      "version": "3.7.7"
    },
    "colab": {
      "name": "Projeto - Python com SQLite.ipynb",
      "provenance": [],
      "include_colab_link": true
    }
  },
  "cells": [
    {
      "cell_type": "markdown",
      "metadata": {
        "id": "view-in-github",
        "colab_type": "text"
      },
      "source": [
        "<a href=\"https://colab.research.google.com/github/JoaoDaross/br-sqlite-project/blob/master/Projeto%20-%20Python%20com%20SQLite.ipynb\" target=\"_parent\"><img src=\"https://colab.research.google.com/assets/colab-badge.svg\" alt=\"Open In Colab\"/></a>"
      ]
    },
    {
      "cell_type": "markdown",
      "metadata": {
        "id": "67ML-WUXqpqF"
      },
      "source": [
        "# Awari - Data Science\n",
        "\n",
        "## Projeto - Python com SQLite\n",
        "\n",
        "## 1. Considerações iniciais\n",
        "\n",
        "Para que você assimile melhor os comandos do SQL, preparamos este projeto de Python com SQLite. Neste notebook Jupyter, você irá reforçando alguns conceitos da unidade atual e deverá executar algumas tarefas pelo caminho. Todo o projeto deve ser executado neste Jupyter Notebook. Por fim, se desejar, revise as respostas com o seu mentor.\n",
        "\n",
        "### 1.1. Por que SQLite?\n",
        "O SQLite é uma pequena biblioteca em C que possui um banco de dados SQL embutido. Sem o apoio de um poderoso SGDB (Sistema de Gerenciamento de Banco de Dados) como nas soluções do mercado, o SQLite é ideal para fins de aprendizagem, pois sua instalação é fácil e não requer nenhuma configuração inicial. Deste modo, podemos focar nos comandos do SQL.\n",
        "\n",
        "### 1.2. Prepare seu ambiente\n",
        "Baixe e instale o SQLite antes de começar. Resumidamente, você irá acessar a página de [Downloads](https://www.sqlite.org/download.html) do SQLite e baixar os executáveis para a mesma pasta deste notebook. Caso você encontre dificuldades:\n",
        "\n",
        "- Assista a este [vídeo](https://www.youtube.com/watch?v=VcKKt6OTlJc) para \"instalar\" o SQLite no Windows ou;\n",
        "- Ou siga este [manual](http://www.devfuria.com.br/linux/instalando-sqlite/) para as plataformas Linux.\n",
        "\n",
        "### 1.3. Conjunto de dados\n",
        "\n",
        "O conjunto de dados que iremos utilizar é derivado do [Titanic](https://www.kaggle.com/c/titanic/data). Na verdade, dividimos o conjunto em dois arquivos CSV - [passageiros](passageiros.csv) e [passagens](passagens.csv). Cada um destes arquivo serão inseridos dentro do SQLite como tabelas, onde você executará suas consultas SQL.\n",
        "\n",
        "#### 1.3.1. Descrição do dados\n",
        "\n",
        "No arquivo [passageiros](passageiros.csv), você encontrará:\n",
        "- PassengerId: Id do passageiro\n",
        "- Survived: Se o passageiro sobreviveu ou não. Se 0, então não sobreviveu. Se 1, sobreviveu.\n",
        "- Pclass: Classe em que o passageiro estava viajando. Se 1, então estava na primeira classe e assim por diante.\n",
        "- Name: Nome do passageiro.\n",
        "- Sex: Gênero do passageiro. Masculino ou feminino.\n",
        "- Age: Idade.\n",
        "- Sibsp: número de irmãos / esposas a bordo do navio.\n",
        "- Parch: número de pais / filhos a bordo do navio.\n",
        "\n",
        "E no arquivo [passagens](passagens.csv):\n",
        "- PassengerId: Id do passageiro\n",
        "- Ticket: número do ticket de embarque\n",
        "- Fare: valor pago pelo ticket.\n",
        "- Cabin: cabine do passageiro.\n",
        "- Embarked: porto de embarque do passageiro. C = Cherbourg, Q = Queenstown e S = Southampton\n"
      ]
    },
    {
      "cell_type": "markdown",
      "metadata": {
        "id": "77hTWaYNqpqI"
      },
      "source": [
        "## 2. Procedimentos\n",
        "\n",
        "### 2.1. Leitura dos arquivos CSV\n",
        "Antes de importarmos os dados dentro das tabelas, precisamos começar lendo os arquivos CSV. O pequeno código abaixo importa os dados do CSV em uma lista de dicionários em Python."
      ]
    },
    {
      "cell_type": "code",
      "metadata": {
        "id": "Z5-o2JtRqpqO"
      },
      "source": [
        "import csv \n",
        "\n",
        "def importar_csv(arquivo):\n",
        "    dados = []\n",
        "    with open(arquivo) as arq:\n",
        "        leitor = csv.DictReader(arq)\n",
        "        for l in leitor:\n",
        "            dados.append(dict(l))\n",
        "    \n",
        "    print('O conjunto de dados tem %s registros.' % len(dados))\n",
        "    \n",
        "    return dados"
      ],
      "execution_count": 7,
      "outputs": []
    },
    {
      "cell_type": "markdown",
      "metadata": {
        "id": "jvvtmugpqpqs"
      },
      "source": [
        "### TAREFA 01\n",
        "\n",
        "1. Importe o arquivo passagens.csv usando o mesmo código anterior.\n",
        "2. Atualize as partes contendo `...` com o que falta no seu código\n",
        "\n",
        "**DICA**: Não reinvente a roda, reutilize a função anterior."
      ]
    },
    {
      "cell_type": "code",
      "metadata": {
        "id": "BzHLC8N3qpq0",
        "outputId": "9888f6b4-4a6f-49f5-934d-3adde1c57cfb",
        "colab": {
          "base_uri": "https://localhost:8080/"
        }
      },
      "source": [
        "# Insira seu código aqui\n",
        "passagens = importar_csv('passagens.csv')"
      ],
      "execution_count": 21,
      "outputs": [
        {
          "output_type": "stream",
          "text": [
            "O conjunto de dados tem 891 registros.\n"
          ],
          "name": "stdout"
        }
      ]
    },
    {
      "cell_type": "markdown",
      "metadata": {
        "id": "X_Za0Bgyqpq9"
      },
      "source": [
        "### TAREFA 02\n",
        "1. Importe o arquivo passageiros.csv usando o mesmo código anterior."
      ]
    },
    {
      "cell_type": "code",
      "metadata": {
        "id": "nzgtPiYiqprF",
        "outputId": "8cc1f9b5-f270-4d28-8787-fe2c39d5293c",
        "colab": {
          "base_uri": "https://localhost:8080/"
        }
      },
      "source": [
        "# Insira seu código aqui\n",
        "passageiros = importar_csv('passageiros.csv')"
      ],
      "execution_count": 22,
      "outputs": [
        {
          "output_type": "stream",
          "text": [
            "O conjunto de dados tem 891 registros.\n"
          ],
          "name": "stdout"
        }
      ]
    },
    {
      "cell_type": "markdown",
      "metadata": {
        "id": "Tdqwx0XlqprN"
      },
      "source": [
        "### 2.2. Criando o banco de dados\n",
        "Para manipular um banco SQLite com Python, temos que utilizar uma biblioteca específica."
      ]
    },
    {
      "cell_type": "code",
      "metadata": {
        "id": "I0hsN_nsqprO"
      },
      "source": [
        "import sqlite3\n",
        "conn = sqlite3.connect('titanic.db')"
      ],
      "execution_count": 11,
      "outputs": []
    },
    {
      "cell_type": "markdown",
      "metadata": {
        "id": "dpII3O1HqprV"
      },
      "source": [
        "O comando acima cria o arquivo [titanic.db](titanic.db), que armazará nossos dados."
      ]
    },
    {
      "cell_type": "markdown",
      "metadata": {
        "id": "udDGMFomqprV"
      },
      "source": [
        "### 2.3. Criando as tabelas\n",
        "Neste momento, temos do dados e o banco SQLlite. Então é hora de começar à usar comandos SQL para criar as tabelas que armazenarão nossos dados dentro do banco.\n",
        "\n",
        "No SQLlite, precisamos primeiro criar uma conexão e um cursor para executar nossos comandos no banco. Para facilicar, o código abaixo facilita este processo. Você só precisa passar seu comando SQL para a função."
      ]
    },
    {
      "cell_type": "code",
      "metadata": {
        "id": "Z8CMqVtKqprX"
      },
      "source": [
        "def executa(comando):\n",
        "    cursor = conn.cursor()\n",
        "    cursor.execute(comando)\n",
        "    cursor.close()"
      ],
      "execution_count": 12,
      "outputs": []
    },
    {
      "cell_type": "markdown",
      "metadata": {
        "id": "ZHmrk_Xwqprb"
      },
      "source": [
        "Não execute o comando abaixo, pois ele dá um erro. É só um exemplo"
      ]
    },
    {
      "cell_type": "code",
      "metadata": {
        "id": "ZL1Solqkqprc"
      },
      "source": [
        "# Exemplo\n",
        "#comando = '<SEU_COMANDO_AQUI>'\n",
        "#executa(comando)"
      ],
      "execution_count": null,
      "outputs": []
    },
    {
      "cell_type": "markdown",
      "metadata": {
        "id": "DpHWjohdqprh"
      },
      "source": [
        "### TAREFA 03\n",
        "1. Cria a tabela passageiros.\n",
        "2. PassengerId deve ser a chave primária.\n",
        "3. Atualize as partes contendo `...` com o que falta no seu código"
      ]
    },
    {
      "cell_type": "code",
      "metadata": {
        "id": "wDd4rZ_Qqprh"
      },
      "source": [
        "# Insira seu código aqui\n",
        "tabela_passageiros_comando = \"\"\"\n",
        "CREATE TABLE passageiros(PassengerId INTEGER NOT NULL PRIMARY KEY, Survived INTEGER NOT NULL, Pclass INTEGER NOT NULL, Name VARCHAR(200), Sex VARCHAR(20), Age INTEGER, SibSp INTEGER, Parch INTEGER);\n",
        "\"\"\""
      ],
      "execution_count": 13,
      "outputs": []
    },
    {
      "cell_type": "code",
      "metadata": {
        "id": "AqxFKzJdqprm"
      },
      "source": [
        "executa(tabela_passageiros_comando)"
      ],
      "execution_count": 14,
      "outputs": []
    },
    {
      "cell_type": "markdown",
      "metadata": {
        "id": "FS0I-Rpqqprp"
      },
      "source": [
        "### TAREFA 04\n",
        "1. Cria a tabela passagens.\n",
        "2. PassengerId deve ser a chave primária.\n",
        "3. Atualize as partes contendo `...` com o que falta no seu código"
      ]
    },
    {
      "cell_type": "code",
      "metadata": {
        "id": "a5y_fraJqprq"
      },
      "source": [
        "# Insira seu código aqui\n",
        "tabela_passagens_comando = \"\"\"\n",
        "CREATE TABLE passagens(PassengerId INTEGER NOT NULL PRIMARY KEY,\n",
        "Ticket VARCHAR(200),\n",
        "Fare DECIMAL(9,2),\n",
        "Cabin VARCHAR(20),\n",
        "Embarked VARCHAR(5));\n",
        "\"\"\""
      ],
      "execution_count": 17,
      "outputs": []
    },
    {
      "cell_type": "code",
      "metadata": {
        "id": "y7cETGJwqprt"
      },
      "source": [
        "executa(tabela_passagens_comando)"
      ],
      "execution_count": 18,
      "outputs": []
    },
    {
      "cell_type": "markdown",
      "metadata": {
        "id": "PAX2m3Vwqprw"
      },
      "source": [
        "**Atenção:** Caso você tente executar os comandos de criação de tabelas mais de uma vez, perceberá um erro de operação informando que a tabela já existe.\n",
        "\n",
        "Vamos verificar se as tabelas foram realmente criadas? Abra o terminal e na pasta atual digite:\n",
        "```\n",
        "$ sqlite3 titanic.db \".tables\"\n",
        "```\n",
        "O terminal deve retornar com as tabelas existentes em seu banco [titanic.db](titanic.db). Neste casos, *passageiros* e *passagens*. Lembre-se que neste momento, não temos nenhum dado inseridos nas tabelas.\n",
        "\n",
        "Caso queira verifcar mais algumas informações das tabelas criadas, pode executar esta outra instrução:\n",
        "```\n",
        "$ sqlite3 titanic.db \"PRAGMA table_info(passageiros)\"\n",
        "```"
      ]
    },
    {
      "cell_type": "markdown",
      "metadata": {
        "id": "QPGMNtwgqprw"
      },
      "source": [
        "### TAREFA 05\n",
        "1. Pelo terminal, verifique mais informações da tabela passagens."
      ]
    },
    {
      "cell_type": "markdown",
      "metadata": {
        "id": "pixNxo-hqprx"
      },
      "source": [
        "### 2.4. Inserindo dados nas tabelas\n",
        "Usando o comando INSERT INTO, vamos popular as nossas tabelas. O processo é simples, percorremos as listas de dicionários, montamos nosso comando INSERT INTO e executamos - uma a uma. Para a tabela passageiros:"
      ]
    },
    {
      "cell_type": "code",
      "metadata": {
        "id": "CTCBMzSGqprx"
      },
      "source": [
        "for p in passageiros:\n",
        "    p['Name'] = p['Name'].replace('\"', \"'\")\n",
        "    inserir_passageiro = (\"\"\"\n",
        "    INSERT INTO passageiros(PassengerId, Survived, Pclass, Name, Sex, Age, Sibsp, Parch)\n",
        "    VALUES (%s, \"%s\", \"%s\", \"%s\", \"%s\", \"%s\", \"%s\", \"%s\")\"\"\") % (p['PassengerId'], p['Survived'], p['Pclass'],\n",
        "                                                                 p['Name'], p['Sex'], p['Age'], p['SibSp'],\n",
        "                                                                 p['Parch'])\n",
        "    executa(inserir_passageiro)"
      ],
      "execution_count": 23,
      "outputs": []
    },
    {
      "cell_type": "markdown",
      "metadata": {
        "id": "EYRwmfy4qpr2"
      },
      "source": [
        "### TAREFA 06\n",
        "1. Insira os dados de passagens dentro da tabela passagens"
      ]
    },
    {
      "cell_type": "code",
      "metadata": {
        "id": "qw8IiY0Kqpr2"
      },
      "source": [
        "# Insira seu código aqui\n",
        "for p in passagens:\n",
        "    inserir_passagens = (\"\"\"\n",
        "    INSERT INTO passagens(PassengerId, Ticket, Fare, Cabin, Embarked)\n",
        "    VALUES (%s, \"%s\", \"%s\", \"%s\", \"%s\")\"\"\") % (p['PassengerId'], p['Ticket'], p['Fare'], \n",
        "                                               p['Cabin'], p['Embarked'])\n",
        "    executa(inserir_passagens)"
      ],
      "execution_count": 24,
      "outputs": []
    },
    {
      "cell_type": "markdown",
      "metadata": {
        "id": "Qpefte5Dqpr8"
      },
      "source": [
        "### 2.5. Executando consultas\n",
        "Agora que os dados estão inseridos no arquivo banco SQLite, vamos executar alguns consultas. Vamos começar fazendo uma seleção de todas as colunas das tabelas.\n",
        "\n",
        "O comando SELECT retorna dados, deste modo, precisamos fazer alguma alteração na função executa. utilize o *executa_consulta()*."
      ]
    },
    {
      "cell_type": "code",
      "metadata": {
        "id": "JGIgjdlDqpr9"
      },
      "source": [
        "def executa_consulta(consulta):\n",
        "    cursor = conn.cursor()\n",
        "    cursor.execute(consulta)\n",
        "    for linha in cursor.fetchall():\n",
        "        print(linha)\n",
        "    \n",
        "    cursor.close()"
      ],
      "execution_count": 25,
      "outputs": []
    },
    {
      "cell_type": "markdown",
      "metadata": {
        "id": "p5L61ELnqpsB"
      },
      "source": [
        "Testando nosso código. Repare que o comando LIMIT foi utilizado para limitar a quantidade de linhas."
      ]
    },
    {
      "cell_type": "code",
      "metadata": {
        "id": "9dyYmoFIqpsC",
        "outputId": "447a789c-44e3-49b5-ac13-8cc70b6a19e8",
        "colab": {
          "base_uri": "https://localhost:8080/"
        }
      },
      "source": [
        "consulta_passageiro = \"\"\"SELECT * FROM PASSAGEIROS LIMIT 10\"\"\"\n",
        "executa_consulta(consulta_passageiro)"
      ],
      "execution_count": 26,
      "outputs": [
        {
          "output_type": "stream",
          "text": [
            "(1, 0, 3, 'Braund, Mr. Owen Harris', 'male', 22, 1, 0)\n",
            "(2, 1, 1, 'Cumings, Mrs. John Bradley (Florence Briggs Thayer)', 'female', 38, 1, 0)\n",
            "(3, 1, 3, 'Heikkinen, Miss. Laina', 'female', 26, 0, 0)\n",
            "(4, 1, 1, 'Futrelle, Mrs. Jacques Heath (Lily May Peel)', 'female', 35, 1, 0)\n",
            "(5, 0, 3, 'Allen, Mr. William Henry', 'male', 35, 0, 0)\n",
            "(6, 0, 3, 'Moran, Mr. James', 'male', '', 0, 0)\n",
            "(7, 0, 1, 'McCarthy, Mr. Timothy J', 'male', 54, 0, 0)\n",
            "(8, 0, 3, 'Palsson, Master. Gosta Leonard', 'male', 2, 3, 1)\n",
            "(9, 1, 3, 'Johnson, Mrs. Oscar W (Elisabeth Vilhelmina Berg)', 'female', 27, 0, 2)\n",
            "(10, 1, 2, 'Nasser, Mrs. Nicholas (Adele Achem)', 'female', 14, 1, 0)\n"
          ],
          "name": "stdout"
        }
      ]
    },
    {
      "cell_type": "code",
      "metadata": {
        "id": "EcMMitm_qpsH",
        "outputId": "e2a998d9-65d9-4c6e-d7d2-375e52635ad2",
        "colab": {
          "base_uri": "https://localhost:8080/"
        }
      },
      "source": [
        "consulta_passagens = \"\"\"SELECT * FROM PASSAGENS LIMIT 10\"\"\"\n",
        "executa_consulta(consulta_passagens)"
      ],
      "execution_count": 27,
      "outputs": [
        {
          "output_type": "stream",
          "text": [
            "(1, 'A/5 21171', 7.25, '', 'S')\n",
            "(2, 'PC 17599', 71.2833, 'C85', 'C')\n",
            "(3, 'STON/O2. 3101282', 7925, '', 'S')\n",
            "(4, '113803', 53.1, 'C123', 'S')\n",
            "(5, '373450', 8.05, '', 'S')\n",
            "(6, '330877', 8.4583, '', 'Q')\n",
            "(7, '17463', 51.8625, 'E46', 'S')\n",
            "(8, '349909', 21075, '', 'S')\n",
            "(9, '347742', 11.1333, '', 'S')\n",
            "(10, '237736', 30.0708, '', 'C')\n"
          ],
          "name": "stdout"
        }
      ]
    },
    {
      "cell_type": "markdown",
      "metadata": {
        "id": "Ky8nHO6cqpsJ"
      },
      "source": [
        "Também podemos imprimir mais informações sobre uma tabela usando o seguinte comando:"
      ]
    },
    {
      "cell_type": "code",
      "metadata": {
        "id": "EcdW5-eWqpsJ",
        "outputId": "75b96a7f-3080-4493-9cf8-2d32f0f6146f",
        "colab": {
          "base_uri": "https://localhost:8080/"
        }
      },
      "source": [
        "executa_consulta('pragma table_info(passageiros)')"
      ],
      "execution_count": 28,
      "outputs": [
        {
          "output_type": "stream",
          "text": [
            "(0, 'PassengerId', 'INTEGER', 1, None, 1)\n",
            "(1, 'Survived', 'INTEGER', 1, None, 0)\n",
            "(2, 'Pclass', 'INTEGER', 1, None, 0)\n",
            "(3, 'Name', 'VARCHAR(200)', 0, None, 0)\n",
            "(4, 'Sex', 'VARCHAR(20)', 0, None, 0)\n",
            "(5, 'Age', 'INTEGER', 0, None, 0)\n",
            "(6, 'SibSp', 'INTEGER', 0, None, 0)\n",
            "(7, 'Parch', 'INTEGER', 0, None, 0)\n"
          ],
          "name": "stdout"
        }
      ]
    },
    {
      "cell_type": "markdown",
      "metadata": {
        "id": "PAXBDtUFqpsM"
      },
      "source": [
        "### TAREFA 07\n",
        "1. Verifique quantos tipos de classe (PClass) existem na tabela passageiros."
      ]
    },
    {
      "cell_type": "code",
      "metadata": {
        "id": "bmptBuZvqpsN",
        "outputId": "9f8066ce-4e6e-4170-c7a5-5454260ddcdb",
        "colab": {
          "base_uri": "https://localhost:8080/"
        }
      },
      "source": [
        "# Insira seu código aqui\n",
        "consulta = \"\"\"SELECT DISTINCT(Pclass) FROM passageiros\"\"\"\n",
        "executa_consulta(consulta)"
      ],
      "execution_count": 29,
      "outputs": [
        {
          "output_type": "stream",
          "text": [
            "(3,)\n",
            "(1,)\n",
            "(2,)\n"
          ],
          "name": "stdout"
        }
      ]
    },
    {
      "cell_type": "markdown",
      "metadata": {
        "id": "uuH8SL33qpsV"
      },
      "source": [
        "### TAREFA 08\n",
        "1. Selecione os passageiros do sexo masculino (Sex) e que estejam na segunda classe (PClass).\n",
        "\n",
        "**DICA**: Use a cláusula WHERE e uma condicional (AND ou OR)."
      ]
    },
    {
      "cell_type": "code",
      "metadata": {
        "id": "Dj6qVfa7qpsV",
        "outputId": "53193047-ad52-46ad-d915-d5f1426e4e19",
        "colab": {
          "base_uri": "https://localhost:8080/"
        }
      },
      "source": [
        "# Insira seu código aqui\n",
        "consulta = \"\"\"SELECT Name, PassengerId FROM passageiros\n",
        "            WHERE Sex='male' and PClass=2\"\"\"\n",
        "executa_consulta(consulta)"
      ],
      "execution_count": 30,
      "outputs": [
        {
          "output_type": "stream",
          "text": [
            "('Williams, Mr. Charles Eugene', 18)\n",
            "('Fynney, Mr. Joseph J', 21)\n",
            "('Beesley, Mr. Lawrence', 22)\n",
            "('Wheadon, Mr. Edward H', 34)\n",
            "('Jenkin, Mr. Stephen Curnow', 71)\n",
            "('Hood, Mr. Ambrose Jr', 73)\n",
            "('Caldwell, Master. Alden Gates', 79)\n",
            "('Kantor, Mr. Sinai', 100)\n",
            "('Turpin, Mr. William John Robert', 118)\n",
            "('Hickman, Mr. Stanley George', 121)\n",
            "('Nasser, Mr. Nicholas', 123)\n",
            "('Sobey, Mr. Samuel James Hayden', 135)\n",
            "('Richard, Mr. Emile', 136)\n",
            "('Andrew, Mr. Edgardo Samuel', 145)\n",
            "('Nicholls, Mr. Joseph Charles', 146)\n",
            "(\"Navratil, Mr. Michel ('Louis M Hoffman')\", 149)\n",
            "('Byles, Rev. Thomas Roussel Davids', 150)\n",
            "('Bateman, Rev. Robert James', 151)\n",
            "('Hale, Mr. Reginald', 179)\n",
            "('Pernot, Mr. Rene', 182)\n",
            "('Becker, Master. Richard F', 184)\n",
            "('Carbines, Mr. William', 192)\n",
            "('Navratil, Master. Michel M', 194)\n",
            "('Givard, Mr. Hans Kristensen', 214)\n",
            "('Jacobsohn, Mr. Sidney Samuel', 218)\n",
            "('Harris, Mr. Walter', 220)\n",
            "('Bracken, Mr. James H', 222)\n",
            "('Mellors, Mr. William John', 227)\n",
            "('Fahlstrom, Mr. Arne Jonas', 229)\n",
            "('Sjostedt, Mr. Ernst Adolf', 233)\n",
            "('Leyson, Mr. Robert William Norman', 235)\n",
            "('Hold, Mr. Stephen', 237)\n",
            "('Pengelly, Mr. Frederick William', 239)\n",
            "('Hunt, Mr. George Henry', 240)\n",
            "('Coleridge, Mr. Reginald Charles', 243)\n",
            "('Carter, Rev. Ernest Courtenay', 250)\n",
            "('Reeves, Mr. David', 266)\n",
            "(\"Parkes, Mr. Francis 'Frank'\", 278)\n",
            "('Hosono, Mr. Masabumi', 289)\n",
            "('Levy, Mr. Rene Jacques', 293)\n",
            "('Abelson, Mr. Samuel', 309)\n",
            "('Hart, Mr. Benjamin', 315)\n",
            "('Moraweck, Dr. Ernest', 318)\n",
            "('Navratil, Master. Edmond Roger', 341)\n",
            "('Collander, Mr. Erik Gustaf', 343)\n",
            "('Sedgwick, Mr. Charles Frederick Waddington', 344)\n",
            "('Fox, Mr. Stanley Hubert', 345)\n",
            "('del Carlo, Mr. Sebastiano', 362)\n",
            "('Davies, Mr. Charles Henry', 386)\n",
            "('McKane, Mr. Peter David', 398)\n",
            "('Pain, Dr. Alfred', 399)\n",
            "('Gale, Mr. Shadrach', 406)\n",
            "('Richards, Master. William Rowe', 408)\n",
            "('Cunningham, Mr. Alfred Fleming', 414)\n",
            "('Matthews, Mr. William John', 419)\n",
            "('Kvillner, Mr. Johan Henrik Johannesson', 440)\n",
            "('West, Mr. Edwy Arthur', 451)\n",
            "('Milling, Mr. Jacob Christian', 464)\n",
            "('Campbell, Mr. William', 467)\n",
            "('Renouf, Mr. Peter Henry', 477)\n",
            "(\"Frost, Mr. Anthony Wood 'Archie'\", 482)\n",
            "('Hocking, Mr. Richard George', 530)\n",
            "('Beane, Mr. Edward', 544)\n",
            "('Padro y Manent, Mr. Julian', 548)\n",
            "('Davies, Master. John Morgan Jr', 550)\n",
            "('Sharp, Mr. Percival James R', 552)\n",
            "('Norman, Mr. Robert Douglas', 563)\n",
            "('Harris, Mr. George', 571)\n",
            "('Downton, Mr. William James', 583)\n",
            "('Jarvis, Mr. John Denzil', 587)\n",
            "('Chapman, Mr. John Henry', 595)\n",
            "('Gavey, Mr. Lawrence', 620)\n",
            "('Kirkland, Rev. Charles Leonard', 627)\n",
            "('Collyer, Mr. Harvey', 638)\n",
            "('Hickman, Mr. Leonard Mark', 656)\n",
            "('Eitemiller, Mr. George Floyd', 659)\n",
            "('Hickman, Mr. Lewis', 666)\n",
            "('Butler, Mr. Reginald Fenton', 667)\n",
            "('Mitchell, Mr. Henry Michael', 673)\n",
            "('Wilhelms, Mr. Charles', 674)\n",
            "('Watson, Mr. Ennis Hastings', 675)\n",
            "('Brown, Mr. Thomas William Solomon', 685)\n",
            "('Laroche, Mr. Joseph Philippe Lemercier', 686)\n",
            "('Chapman, Mr. Charles Henry', 696)\n",
            "(\"Morley, Mr. Henry Samuel ('Mr Henry Marshall')\", 706)\n",
            "('Greenberg, Mr. Samuel', 715)\n",
            "('Gillespie, Mr. William Henry', 723)\n",
            "('Hodges, Mr. Henry Price', 724)\n",
            "('Bryhl, Mr. Kurt Arnold Gottfrid', 729)\n",
            "('Knight, Mr. Robert J', 733)\n",
            "('Berriman, Mr. William John', 734)\n",
            "('Troupiansky, Mr. Moses Aaron', 735)\n",
            "('Hamalainen, Master. Viljo', 756)\n",
            "('Bailey, Mr. Percy Andrew', 758)\n",
            "('Gaskell, Mr. Alfred', 792)\n",
            "('Otter, Mr. Richard', 796)\n",
            "('Ponesell, Mr. Martin', 801)\n",
            "('Meyer, Mr. August', 809)\n",
            "('Slemen, Mr. Richard James', 813)\n",
            "('Mallet, Mr. Albert', 818)\n",
            "('Mallet, Master. Andre', 828)\n",
            "('Richards, Master. George Sibley', 832)\n",
            "('Mudd, Mr. Thomas Charles', 842)\n",
            "('Harper, Rev. John', 849)\n",
            "('Giles, Mr. Frederick Edward', 862)\n",
            "('Gill, Mr. John William', 865)\n",
            "('Banfield, Mr. Frederick James', 884)\n",
            "('Montvila, Rev. Juozas', 887)\n"
          ],
          "name": "stdout"
        }
      ]
    },
    {
      "cell_type": "markdown",
      "metadata": {
        "id": "2B5AmPENqpsa"
      },
      "source": [
        "### TAREFA 09\n",
        "1. Conte quantos passageiros existem por sexo.\n",
        "\n",
        "**DICA**: Use GROUP BY e COUNT()."
      ]
    },
    {
      "cell_type": "code",
      "metadata": {
        "id": "hpuRS_Bwqpsb",
        "outputId": "9a86698c-0d9c-4399-ad5b-9f92fa386a45",
        "colab": {
          "base_uri": "https://localhost:8080/"
        }
      },
      "source": [
        "# Insira seu código aqui\n",
        "consulta = \"\"\"SELECT Sex, count() FROM passageiros \n",
        "              GROUP BY Sex\"\"\"\n",
        "executa_consulta(consulta)"
      ],
      "execution_count": 31,
      "outputs": [
        {
          "output_type": "stream",
          "text": [
            "('female', 314)\n",
            "('male', 577)\n"
          ],
          "name": "stdout"
        }
      ]
    },
    {
      "cell_type": "markdown",
      "metadata": {
        "id": "O_JHRS95qpsd"
      },
      "source": [
        "### TAREFA 10\n",
        "1. Verifique o valor médio das passagens em cada porto de embarque\n",
        "\n",
        "**DICA**: Use GROUP BY e AVG(). A presença de valores missing pode apresentar alguns resultados estranhos."
      ]
    },
    {
      "cell_type": "code",
      "metadata": {
        "id": "QpJOhqsdqpse",
        "outputId": "3775a46e-b4ce-44ff-958f-0c1d4d5e2b63",
        "colab": {
          "base_uri": "https://localhost:8080/"
        }
      },
      "source": [
        "# Insira seu código aqui\n",
        "consulta = \"\"\"SELECT Embarked,AVG(Fare) FROM passagens \n",
        "              GROUP BY Embarked\"\"\"\n",
        "executa_consulta(consulta)"
      ],
      "execution_count": 32,
      "outputs": [
        {
          "output_type": "stream",
          "text": [
            "('', 80.0)\n",
            "('C', 12709.34566190476)\n",
            "('Q', 2002.8429129870128)\n",
            "('S', 2015.3069857142902)\n"
          ],
          "name": "stdout"
        }
      ]
    },
    {
      "cell_type": "markdown",
      "metadata": {
        "id": "saAKCxtnqpsg"
      },
      "source": [
        "### TAREFA 11\n",
        "1. Selecione o nome (Name), sexo(Sex) e tarifa(Fare) paga de 5 passageiros\n",
        "2. Utilize as tabelas passageiros e passagens.\n",
        "\n",
        "**DICA**: Use JOIN."
      ]
    },
    {
      "cell_type": "code",
      "metadata": {
        "id": "4uHBu5A9qpsg",
        "outputId": "dbbdc896-d0df-4171-80ef-b9f2c28f849b",
        "colab": {
          "base_uri": "https://localhost:8080/"
        }
      },
      "source": [
        "# Insira seu código aqui\n",
        "consulta = \"\"\"SELECT Name, Sex, Fare FROM passageiros\n",
        "            INNER JOIN passagens \n",
        "            ON passageiros.PassengerId=passagens.PassengerId\n",
        "            LIMIT 5\"\"\"\n",
        "executa_consulta(consulta)"
      ],
      "execution_count": 33,
      "outputs": [
        {
          "output_type": "stream",
          "text": [
            "('Braund, Mr. Owen Harris', 'male', 7.25)\n",
            "('Cumings, Mrs. John Bradley (Florence Briggs Thayer)', 'female', 71.2833)\n",
            "('Heikkinen, Miss. Laina', 'female', 7925)\n",
            "('Futrelle, Mrs. Jacques Heath (Lily May Peel)', 'female', 53.1)\n",
            "('Allen, Mr. William Henry', 'male', 8.05)\n"
          ],
          "name": "stdout"
        }
      ]
    },
    {
      "cell_type": "markdown",
      "metadata": {
        "id": "MpSB6SeGqpsj"
      },
      "source": [
        "### TAREFA 12\n",
        "1. Selecione o valor máximo (Fare) das passagens por classe."
      ]
    },
    {
      "cell_type": "code",
      "metadata": {
        "id": "Hq8xXEUgqpsj",
        "outputId": "47cc7531-bf85-40ac-b4fd-2612ed90c84f",
        "colab": {
          "base_uri": "https://localhost:8080/"
        }
      },
      "source": [
        "# Insira seu código aqui\n",
        "consulta = \"\"\"SELECT PClass, MAX(Fare) FROM passagens INNER JOIN passageiros\n",
        "            ON passagens.PassengerId=passageiros.PassengerId\n",
        "            GROUP BY PClass\"\"\"\n",
        "executa_consulta(consulta)"
      ],
      "execution_count": 34,
      "outputs": [
        {
          "output_type": "stream",
          "text": [
            "(1, 262375)\n",
            "(2, 12875)\n",
            "(3, 34375)\n"
          ],
          "name": "stdout"
        }
      ]
    },
    {
      "cell_type": "markdown",
      "metadata": {
        "id": "xsKRXlGUqpsn"
      },
      "source": [
        "### TAREFA 13\n",
        "1. Descubra quantas pessoas embarcaram por porto\n",
        "2. Agrupando por porto e sexo."
      ]
    },
    {
      "cell_type": "code",
      "metadata": {
        "id": "LBwKcdJNqpsn",
        "outputId": "853d5d24-e34f-41f6-96e5-8881e0e8a06f",
        "colab": {
          "base_uri": "https://localhost:8080/"
        }
      },
      "source": [
        "# Insira seu código aqui\n",
        "consulta = \"\"\"SELECT Embarked, Sex, COUNT()\n",
        "            FROM passageiros INNER JOIN passagens\n",
        "            ON passageiros.PassengerId=passagens.PassengerId\n",
        "            GROUP BY Embarked, Sex\"\"\"\n",
        "executa_consulta(consulta)"
      ],
      "execution_count": 35,
      "outputs": [
        {
          "output_type": "stream",
          "text": [
            "('', 'female', 2)\n",
            "('C', 'female', 73)\n",
            "('C', 'male', 95)\n",
            "('Q', 'female', 36)\n",
            "('Q', 'male', 41)\n",
            "('S', 'female', 203)\n",
            "('S', 'male', 441)\n"
          ],
          "name": "stdout"
        }
      ]
    },
    {
      "cell_type": "markdown",
      "metadata": {
        "id": "OZAilx0yqpsq"
      },
      "source": [
        "## 3. Conclusão\n",
        "\n",
        "A quantidade de consultas e a lista de comandos SQL é enorme. A interação foi somente relembrar alguns comandos básicos para que você se sinta confortável para explorar qualquer banco de dados SQL que você encontrar.\n"
      ]
    },
    {
      "cell_type": "markdown",
      "metadata": {
        "id": "K1DKQJYwqpsq"
      },
      "source": [
        "### Awari -  <a href=\"https://awari.com.br/\"> awari.com.br</a>"
      ]
    }
  ]
}